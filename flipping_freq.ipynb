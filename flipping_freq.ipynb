{
 "cells": [
  {
   "cell_type": "code",
   "execution_count": 118,
   "metadata": {},
   "outputs": [],
   "source": [
    "import functools\n",
    "import requests\n",
    "import pandas as pd\n",
    "import time\n",
    "import numpy as np"
   ]
  },
  {
   "cell_type": "code",
   "execution_count": 104,
   "metadata": {},
   "outputs": [],
   "source": [
    "@functools.lru_cache(maxsize=512)\n",
    "def cached_get(url):\n",
    "    time.sleep(.5) # used to rate limit the api call, sleep is skipped when cached\n",
    "    return requests.get(url)"
   ]
  },
  {
   "cell_type": "code",
   "execution_count": 105,
   "metadata": {},
   "outputs": [],
   "source": [
    "def api(item, timerange=30):\n",
    "    url = f'https://api.nexushub.co/wow-classic/v1/items/earthfury-alliance/{item}/prices?timerange={timerange}'\n",
    "    return cached_get(url).json()"
   ]
  },
  {
   "cell_type": "code",
   "execution_count": 106,
   "metadata": {},
   "outputs": [],
   "source": [
    "def get_name(item):\n",
    "    return api(item)['name']\n",
    "\n",
    "def get_data(item):\n",
    "    return api(item)['data']\n",
    "\n",
    "def get_dataframe(item):\n",
    "    df = pd.DataFrame(get_data(item))\n",
    "    df['scannedAt'] = pd.to_datetime(df['scannedAt'])\n",
    "    df['marketValue'] /= 100\n",
    "    df['minBuyout']   /= 100\n",
    "    df['minBuyoutPercentile'] = df['minBuyout'].rank(pct=True)\n",
    "    return df"
   ]
  },
  {
   "cell_type": "code",
   "execution_count": 161,
   "metadata": {},
   "outputs": [],
   "source": [
    "def get_flip_count(item, buy_pctile, profit=.15):\n",
    "    df = get_dataframe(item)\n",
    "    count = 0\n",
    "    buysell = 'buy'    \n",
    "    \n",
    "    for pct, val in df[['minBuyoutPercentile','minBuyout']].to_numpy(): #apparently way faster than df.iterrows()\n",
    "        # buy conditions\n",
    "        if buysell=='buy' and pct < buy_pctile:\n",
    "            price   = val\n",
    "            buysell = 'sell'\n",
    "        \n",
    "        # sell conditions\n",
    "        if buysell=='sell' and val > price*(1+profit):\n",
    "            count += 1\n",
    "            buysell = 'buy'    \n",
    "\n",
    "    return count"
   ]
  },
  {
   "cell_type": "code",
   "execution_count": 171,
   "metadata": {},
   "outputs": [],
   "source": [
    "def get_flip_profile(item):\n",
    "    return [ (i, get_flip_count(item,i/100)) for i in range(0,100)]\n",
    "\n",
    "def plot_flip_profile(item):\n",
    "    x, y = zip(*get_flip_profile(item))\n",
    "    plt.plot(x,y, label=get_name(item)) #### LABEL MY FUCKING LINE!!!!!!"
   ]
  },
  {
   "cell_type": "code",
   "execution_count": 174,
   "metadata": {},
   "outputs": [
    {
     "name": "stdout",
     "output_type": "stream",
     "text": [
      "CPU times: user 1.19 s, sys: 51.5 ms, total: 1.24 s\n",
      "Wall time: 1.28 s\n"
     ]
    },
    {
     "data": {
      "image/png": "[encoded data removed]",
      "text/plain": [
       "<Figure size 432x288 with 1 Axes>"
      ]
     },
     "metadata": {
      "needs_background": "light"
     },
     "output_type": "display_data"
    }
   ],
   "source": [
    "%%time\n",
    "plot_flip_profile(2770)\n",
    "plot_flip_profile(2840)\n"
   ]
  }
 ],
 "metadata": {
  "kernelspec": {
   "display_name": "Python 3",
   "language": "python",
   "name": "python3"
  },
  "language_info": {
   "codemirror_mode": {
    "name": "ipython",
    "version": 3
   },
   "file_extension": ".py",
   "mimetype": "text/x-python",
   "name": "python",
   "nbconvert_exporter": "python",
   "pygments_lexer": "ipython3",
   "version": "3.7.6"
  }
 },
 "nbformat": 4,
 "nbformat_minor": 4
}
