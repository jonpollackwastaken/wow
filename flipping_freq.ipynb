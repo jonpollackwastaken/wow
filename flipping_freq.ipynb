{
 "cells": [
  {
   "cell_type": "code",
   "execution_count": 1,
   "metadata": {},
   "outputs": [],
   "source": [
    "import functools\n",
    "import requests\n",
    "import pandas as pd\n",
    "import time\n",
    "import numpy as np\n",
    "import matplotlib.pyplot as plt"
   ]
  },
  {
   "cell_type": "code",
   "execution_count": 2,
   "metadata": {},
   "outputs": [],
   "source": [
    "# RUNNING THIS CELL RESETS THE CACHE\n",
    "\n",
    "@functools.lru_cache(maxsize=512)\n",
    "def cached_get(url):\n",
    "    time.sleep(.5) # used to rate limit the api call, sleep is skipped when cached\n",
    "    return requests.get(url)"
   ]
  },
  {
   "cell_type": "code",
   "execution_count": 159,
   "metadata": {},
   "outputs": [],
   "source": [
    "SERVER = 'earthfury-alliance'\n",
    "\n",
    "def api(item, timerange=7):\n",
    "    url = f'https://api.nexushub.co/wow-classic/v1/items/{SERVER}/{item}/prices?timerange={timerange}'\n",
    "    return cached_get(url).json()"
   ]
  },
  {
   "cell_type": "markdown",
   "metadata": {},
   "source": [
    "**Basic GET functions**"
   ]
  },
  {
   "cell_type": "code",
   "execution_count": 183,
   "metadata": {},
   "outputs": [],
   "source": [
    "def get_name(item):\n",
    "    return api(item)['name']\n",
    "\n",
    "def get_data(item):\n",
    "    return api(item)['data']\n",
    "\n",
    "def get_dataframe(item):\n",
    "    df = pd.DataFrame(get_data(item))\n",
    "    df['scannedAt'] = pd.to_datetime(df['scannedAt'])\n",
    "    df['marketValue'] /= 100\n",
    "    df['minBuyout']   /= 100\n",
    "    df['minBuyoutPercentile'] = df['minBuyout'].rank(pct=True)\n",
    "    return df\n",
    "\n",
    "def get_current_dbmarket(item):\n",
    "    return get_dataframe(item)['marketValue'].iloc[-1]\n",
    "\n",
    "def get_current_volume(item):\n",
    "    return get_dataframe(item)['quantity'].iloc[-1]\n",
    "\n",
    "def get_minBuyout_at_pctile(item, pctile):\n",
    "    arr = get_dataframe(item)['minBuyout'].to_list()\n",
    "    return np.percentile(arr, pctile*100)"
   ]
  },
  {
   "cell_type": "markdown",
   "metadata": {},
   "source": [
    "**Basic PLOT functions**"
   ]
  },
  {
   "cell_type": "code",
   "execution_count": 106,
   "metadata": {},
   "outputs": [],
   "source": [
    "def plot_minBuyout(item):\n",
    "    get_dataframe(item).plot(x='scannedAt', y='minBuyout')\n",
    "    \n",
    "def plot_dbmarket(item):\n",
    "    get_dataframe(item).plot(x='scannedAt', y='marketValue')"
   ]
  },
  {
   "cell_type": "markdown",
   "metadata": {},
   "source": [
    "**FLIP functions**"
   ]
  },
  {
   "cell_type": "code",
   "execution_count": 196,
   "metadata": {},
   "outputs": [],
   "source": [
    "# RUNNING THIS CELL RESETS THE CACHE\n",
    "\n",
    "@functools.lru_cache(maxsize=512)\n",
    "def get_flip_count(item, buy_pctile, profit=.15):\n",
    "    df = get_dataframe(item)\n",
    "    count = 0\n",
    "    buysell = 'buy'    \n",
    "    \n",
    "    for pct, val in df[['minBuyoutPercentile','minBuyout']].to_numpy(): #apparently way faster than df.iterrows()\n",
    "        # buy conditions\n",
    "        if buysell=='buy' and pct < buy_pctile:\n",
    "            price   = val\n",
    "            buysell = 'sell'\n",
    "        \n",
    "        # sell conditions\n",
    "        if buysell=='sell' and val > price*(1+profit):\n",
    "            count += 1\n",
    "            buysell = 'buy'    \n",
    "\n",
    "    return count"
   ]
  },
  {
   "cell_type": "code",
   "execution_count": 197,
   "metadata": {},
   "outputs": [],
   "source": [
    "def get_flip_profile(item):\n",
    "    return [ (i/100, get_flip_count(item,i/100)) for i in range(0,100)]\n",
    "\n",
    "def plot_flip_profile(item):\n",
    "    x, y = zip(*get_flip_profile(item))\n",
    "    label = get_name(item) + ' | auc:' + str(get_flip_profile_auc(item))\n",
    "    plt.plot(x,y, label=label) \n",
    "    \n",
    "def get_flip_profile_auc(item):\n",
    "    x, y = zip(*get_flip_profile(item))\n",
    "    return sum(y)/100 \n",
    "\n",
    "def get_best_flip(item):\n",
    "    return max(get_flip_profile(item), key=lambda x:x[1])[1]\n",
    "\n",
    "def get_best_flip_pctile(item):\n",
    "    # from profit_profile, get x when y is max\n",
    "    return max(get_flip_profile(item), key=lambda x:x[1])[0]\n",
    "\n",
    "def get_best_flip_price(item):\n",
    "    # get minBuyout at best percentile\n",
    "    return get_minBuyout_at_pctile(item, get_best_flip_pctile(item))"
   ]
  },
  {
   "cell_type": "markdown",
   "metadata": {},
   "source": [
    "**FLIP PROFIT Function**"
   ]
  },
  {
   "cell_type": "code",
   "execution_count": 151,
   "metadata": {},
   "outputs": [],
   "source": [
    "def get_profit_profile(item):\n",
    "    profit = .1 # assume a 15% flip minus 5% auction cut\n",
    "    return [(x, get_minBuyout_at_pctile(item,x) * profit * y) for x,y in get_flip_profile(item)] \n",
    "\n",
    "def plot_profit_profile(item):\n",
    "    x, y = zip(*get_profit_profile(item))\n",
    "    label = get_name(item) + ' | auc:' + str(get_profit_profile_auc(item))\n",
    "    plt.plot(x,y, label=label) \n",
    "\n",
    "def get_profit_profile_auc(item):\n",
    "    x, y = zip(*get_profit_profile(item))\n",
    "    return sum(y)/100\n",
    "\n",
    "def get_best_profit_pctile(item):\n",
    "    # from profit_profile, get x when y is max\n",
    "    return max(get_profit_profile(item), key=lambda x:x[1])[0]\n",
    "\n",
    "def get_best_profit_price(item):\n",
    "    # get minBuyout at best percentile\n",
    "    return get_minBuyout_at_pctile(item, get_best_flip_pctile(item))"
   ]
  },
  {
   "cell_type": "markdown",
   "metadata": {},
   "source": [
    "**TESTING**"
   ]
  },
  {
   "cell_type": "code",
   "execution_count": 152,
   "metadata": {},
   "outputs": [
    {
     "name": "stdout",
     "output_type": "stream",
     "text": [
      "CPU times: user 888 ms, sys: 79.4 ms, total: 968 ms\n",
      "Wall time: 2.95 s\n"
     ]
    },
    {
     "data": {
      "text/plain": [
       "<matplotlib.legend.Legend at 0x127a40290>"
      ]
     },
     "execution_count": 152,
     "metadata": {},
     "output_type": "execute_result"
    },
    {
     "data": {
      "image/png": "[encoded data removed]",
      "text/plain": [
       "<Figure size 432x288 with 1 Axes>"
      ]
     },
     "metadata": {
      "needs_background": "light"
     },
     "output_type": "display_data"
    }
   ],
   "source": [
    "%%time\n",
    "plot_flip_profile(2770)\n",
    "plot_flip_profile(2840)\n",
    "plt.legend()"
   ]
  },
  {
   "cell_type": "code",
   "execution_count": 153,
   "metadata": {},
   "outputs": [
    {
     "name": "stdout",
     "output_type": "stream",
     "text": [
      "CPU times: user 1.41 s, sys: 238 ms, total: 1.65 s\n",
      "Wall time: 1.84 s\n"
     ]
    },
    {
     "data": {
      "text/plain": [
       "<matplotlib.legend.Legend at 0x124b4c750>"
      ]
     },
     "execution_count": 153,
     "metadata": {},
     "output_type": "execute_result"
    },
    {
     "data": {
      "image/png": "[encoded data removed]",
      "text/plain": [
       "<Figure size 432x288 with 1 Axes>"
      ]
     },
     "metadata": {
      "needs_background": "light"
     },
     "output_type": "display_data"
    }
   ],
   "source": [
    "%%time\n",
    "plot_profit_profile(2770)\n",
    "plot_profit_profile(2840)\n",
    "plt.legend()"
   ]
  },
  {
   "cell_type": "markdown",
   "metadata": {},
   "source": [
    "### Same plots for Skeram"
   ]
  },
  {
   "cell_type": "code",
   "execution_count": 157,
   "metadata": {},
   "outputs": [
    {
     "name": "stdout",
     "output_type": "stream",
     "text": [
      "CPU times: user 1.64 s, sys: 8.08 ms, total: 1.65 s\n",
      "Wall time: 1.65 s\n"
     ]
    },
    {
     "data": {
      "text/plain": [
       "<matplotlib.legend.Legend at 0x1248f1850>"
      ]
     },
     "execution_count": 157,
     "metadata": {},
     "output_type": "execute_result"
    },
    {
     "data": {
      "image/png": "[encoded data removed]",
      "text/plain": [
       "<Figure size 432x288 with 1 Axes>"
      ]
     },
     "metadata": {
      "needs_background": "light"
     },
     "output_type": "display_data"
    }
   ],
   "source": [
    "%%time\n",
    "SERVER = 'skeram-horde' ## NOTE -- reset GET_FLIP_COUNT cache for server change to take effect\n",
    "plot_flip_profile(2770)\n",
    "plot_flip_profile(2840)\n",
    "plt.legend()"
   ]
  },
  {
   "cell_type": "code",
   "execution_count": 158,
   "metadata": {},
   "outputs": [
    {
     "name": "stdout",
     "output_type": "stream",
     "text": [
      "CPU times: user 2.71 s, sys: 6.93 ms, total: 2.72 s\n",
      "Wall time: 2.72 s\n"
     ]
    },
    {
     "data": {
      "text/plain": [
       "<matplotlib.legend.Legend at 0x12755ded0>"
      ]
     },
     "execution_count": 158,
     "metadata": {},
     "output_type": "execute_result"
    },
    {
     "data": {
      "image/png": "[encoded data removed]",
      "text/plain": [
       "<Figure size 432x288 with 1 Axes>"
      ]
     },
     "metadata": {
      "needs_background": "light"
     },
     "output_type": "display_data"
    }
   ],
   "source": [
    "%%time\n",
    "plot_profit_profile(2770)\n",
    "plot_profit_profile(2840)\n",
    "plt.legend()"
   ]
  },
  {
   "cell_type": "markdown",
   "metadata": {},
   "source": [
    "### Big Pull"
   ]
  },
  {
   "cell_type": "code",
   "execution_count": 161,
   "metadata": {},
   "outputs": [],
   "source": [
    "SERVER = 'earthfury-alliance' ## NOTE -- reset GET_FLIP_COUNT cache for server change to take effect"
   ]
  },
  {
   "cell_type": "code",
   "execution_count": 198,
   "metadata": {
    "scrolled": false
   },
   "outputs": [
    {
     "name": "stdout",
     "output_type": "stream",
     "text": [
      "(8153, 'Wildvine', 137.83, 337, 12, 7.77, 100.0, 114.99999999999999)\n",
      "(8836, \"Arthas' Tears\", 4.92, 157, 9, 5.49, 4.5172, 5.19478)\n",
      "(13468, 'Black Lotus', 15762.76, 12, 1, 0.97, 15888.29, 18271.5335)\n",
      "(13466, 'Plaguebloom', 217.99, 179, 9, 4.47, 185.214, 212.99609999999998)\n",
      "(13465, 'Mountain Silversage', 159.12, 320, 8, 3.5, 118.6975, 136.502125)\n",
      "(8845, 'Ghost Mushroom', 143.73, 148, 13, 8.21, 121.48360000000001, 139.70614)\n",
      "(8831, 'Purple Lotus', 9.37, 385, 12, 7.02, 6.6, 7.589999999999999)\n",
      "(3355, 'Wild Steelbloom', 51.14, 197, 8, 5.9, 47.0, 54.05)\n",
      "(2453, 'Bruiseweed', 1.72, 111, 14, 8.46, 1.0775000000000001, 1.239125)\n",
      "(3369, 'Grave Moss', 39.97, 165, 13, 6.32, 43.95, 50.5425)\n",
      "(2447, 'Peacebloom', 0.17, 349, 7, 4.43, 0.18, 0.207)\n",
      "(765, 'Silverleaf', 0.12, 592, 7, 4.77, 0.29, 0.33349999999999996)\n",
      "(3356, 'Kingsblood', 6.75, 230, 16, 10.38, 4.252000000000001, 4.8898)\n",
      "(3358, \"Khadgar's Whisker\", 6.15, 183, 12, 7.65, 5.45, 6.2675)\n",
      "(4625, 'Firebloom', 25.65, 235, 19, 11.06, 27.9912, 32.189879999999995)\n",
      "(2450, 'Briarthorn', 2.99, 581, 14, 10.33, 2.6512, 3.0488799999999996)\n",
      "(3821, 'Goldthorn', 19.1, 159, 12, 8.68, 17.797600000000003, 20.46724)\n",
      "(3818, 'Fadeleaf', 84.31, 55, 16, 9.4, 58.305, 67.05075)\n",
      "(8846, 'Gromsblood', 53.11, 1094, 10, 4.04, 53.875, 61.95625)\n",
      "(8838, 'Sungrass', 51.22, 408, 17, 10.06, 27.005, 31.055749999999996)\n",
      "(3820, 'Stranglekelp', 19.56, 261, 19, 12.58, 21.9852, 25.28298)\n",
      "(3819, 'Wintersbite', 91.76, 167, 4, 2.84, 85.995, 98.89425)\n",
      "(8839, 'Blindweed', 100.0, 240, 17, 10.7, 61.96, 71.25399999999999)\n",
      "(2452, 'Swiftthistle', 72.65, 489, 17, 9.46, 68.0, 78.19999999999999)\n",
      "(2449, 'Earthroot', 0.37, 176, 7, 3.72, 1.1075, 1.2736249999999998)\n",
      "(785, 'Mageroyal', 0.71, 272, 11, 6.25, 0.61, 0.7014999999999999)\n",
      "(13467, 'Icecap', 54.67, 374, 8, 5.11, 54.0, 62.099999999999994)\n",
      "(3357, 'Liferoot', 9.5, 137, 20, 12.07, 10.83, 12.4545)\n",
      "(13463, 'Dreamfoil', 51.13, 868, 11, 4.75, 46.9925, 54.041374999999995)\n",
      "(13464, 'Golden Sansam', 153.01, 161, 4, 2.91, 1.1224, 1.29076)\n",
      "(2589, 'Linen Cloth', 0.83, 1235, 16, 12.4, 0.3968000000000001, 0.45632000000000006)\n",
      "(4306, 'Silk Cloth', 2.13, 3024, 17, 12.39, 1.768, 2.0332)\n",
      "(4338, 'Mageweave Cloth', 4.06, 2386, 10, 7.01, 3.75, 4.3125)\n",
      "(2592, 'Wool Cloth', 0.51, 3615, 7, 5.43, 0.5309999999999999, 0.6106499999999998)\n",
      "(14047, 'Runecloth', 11.0, 394, 12, 9.49, 6.35, 7.302499999999999)\n",
      "(14256, 'Felcloth', 304.72, 78, 11, 7.33, 313.262, 360.25129999999996)\n",
      "(14342, 'Mooncloth', 2040.21, 40, 4, 2.99, 1921.835, 2210.1102499999997)\n",
      "(2996, 'Bolt of Linen Cloth', 0.9, 40, 4, 2.16, 0.66, 0.759)\n",
      "(2997, 'Bolt of Woolen Cloth', 5.37, 212, 4, 3.08, 2.47, 2.8405)\n",
      "(4305, 'Bolt of Silk Cloth', 13.04, 12, 7, 3.91, 9.73, 11.189499999999999)\n",
      "(4339, 'Bolt of Mageweave', 18.41, 121, 5, 3.72, 17.0, 19.549999999999997)\n",
      "(14048, 'Bolt of Runecloth', 63.67, 42, 7, 4.11, 60.0, 69.0)\n",
      "(2772, 'Iron Ore', 9.42, 217, 11, 6.47, 8.0, 9.2)\n",
      "(3340, 'Incendicite Ore', 4.93, 6, 6, 3.25, 4.99, 5.7385)\n",
      "(2771, 'Tin Ore', 3.91, 209, 11, 6.78, 2.785, 3.20275)\n",
      "(2775, 'Silver Ore', 24.64, 62, 12, 8.59, 16.900699999999997, 19.435804999999995)\n",
      "(2770, 'Copper Ore', 1.9, 1061, 11, 7.44, 2.0, 2.3)\n",
      "(5833, 'Indurium Ore', 0.99, 6, 1, 0.32, 4.84, 5.566)\n",
      "(3858, 'Mithril Ore', 8.89, 370, 8, 5.16, 11.707500000000001, 13.463625)\n",
      "(2776, 'Gold Ore', 11.0, 40, 9, 5.83, 12.690000000000001, 14.5935)\n",
      "(10620, 'Thorium Ore', 20.76, 224, 11, 7.96, 18.0, 20.7)\n",
      "(7911, 'Truesilver Ore', 11.55, 82, 6, 3.65, 12.18, 14.006999999999998)\n",
      "(11370, 'Dark Iron Ore', 26.17, 228, 9, 5.6, 27.0, 31.049999999999997)\n",
      "(18562, 'Elementium Ore', 5556.52, 7, 7, 4.35, 5500.0, 6324.999999999999)\n",
      "(12360, 'Arcanite Bar', 6744.99, 8, 2, 1.09, 6670.0, 7670.499999999999)\n",
      "(2842, 'Silver Bar', 8.39, 164, 19, 8.96, 6.752800000000001, 7.76572)\n",
      "(3575, 'Iron Bar', 24.75, 92, 16, 9.17, 14.45, 16.617499999999996)\n",
      "(3859, 'Steel Bar', 27.36, 107, 5, 2.79, 29.98, 34.477)\n",
      "(2840, 'Copper Bar', 2.15, 1210, 8, 4.18, 2.545, 2.9267499999999997)\n",
      "(2841, 'Bronze Bar', 3.73, 939, 8, 4.26, 6.360000000000001, 7.314000000000001)\n",
      "(6037, 'Truesilver Bar', 18.47, 146, 7, 3.39, 14.012799999999999, 16.11472)\n",
      "(3577, 'Gold Bar', 11.75, 144, 10, 4.33, 11.6675, 13.417625)\n",
      "(3576, 'Tin Bar', 2.67, 532, 7, 2.96, 2.4599999999999995, 2.8289999999999993)\n",
      "(3860, 'Mithril Bar', 13.86, 691, 6, 3.18, 11.932, 13.7218)\n",
      "(12359, 'Thorium Bar', 16.8, 1223, 13, 6.4, 36.0, 41.4)\n",
      "(11371, 'Dark Iron Bar', 574.99, 62, 4, 2.27, 560.62, 644.713)\n",
      "(12655, 'Enchanted Thorium Bar', 97.99, 20, 3, 2.27, 99.95999999999998, 114.95399999999997)\n",
      "(10940, 'Strange Dust', 3.25, 800, 8, 4.75, 1.354, 1.5571)\n",
      "(11083, 'Soul Dust', 16.43, 26, 5, 3.02, 9.82, 11.293)\n",
      "(11137, 'Vision Dust', 20.66, 207, 8, 3.72, 9.1125, 10.479375)\n",
      "(11176, 'Dream Dust', 29.54, 113, 12, 8.95, 18.79, 21.608499999999996)\n",
      "(16204, 'Illusion Dust', 14.56, 2431, 9, 5.92, 12.0, 13.799999999999999)\n",
      "(10938, 'Lesser Magic Essence', 9.64, 10, 7, 4.3, 7.549999999999999, 8.682499999999997)\n",
      "(10939, 'Greater Magic Essence', 17.23, 113, 12, 5.67, 12.8282, 14.75243)\n",
      "(10998, 'Lesser Astral Essence', 28.04, 10, 3, 2.7, 22.41, 25.7715)\n",
      "(11082, 'Greater Astral Essence', 100.0, 1, 4, 2.41, 63.99, 73.5885)\n",
      "(11134, 'Lesser Mystic Essence', 26.37, 46, 4, 3.08, 10.95, 12.592499999999998)\n",
      "(11135, 'Greater Mystic Essence', 69.49, 14, 7, 2.75, 42.05000000000002, 48.357500000000016)\n",
      "(11174, 'Lesser Nether Essence', 113.09, 184, 4, 2.7, 96.9538, 111.49686999999999)\n",
      "(11175, 'Greater Nether Essence', 370.23, 22, 5, 3.18, 275.8118, 317.18357)\n",
      "(16202, 'Lesser Eternal Essence', 181.44, 51, 4, 2.24, 195.496, 224.8204)\n",
      "(16203, 'Greater Eternal Essence', 590.13, 192, 7, 4.83, 519.85, 597.8275)\n",
      "(10978, 'Small Glimmering Shard', 5.0, 405, 4, 1.74, 2.4894000000000003, 2.86281)\n",
      "(11084, 'Large Glimmering Shard', 27.5, 49, 4, 2.51, 17.02, 19.572999999999997)\n",
      "(11138, 'Small Glowing Shard', 3.89, 58, 3, 2.4, 3.18, 3.657)\n",
      "(11139, 'Large Glowing Shard', 28.98, 5, 5, 2.33, 28.9776, 33.324239999999996)\n",
      "(11177, 'Small Radiant Shard', 360.5, 109, 5, 2.78, 399.0792, 458.94108)\n",
      "(11178, 'Large Radiant Shard', 394.67, 70, 8, 4.12, 377.22, 433.803)\n",
      "(14343, 'Small Brilliant Shard', 79.04, 112, 6, 3.25, 68.85499999999999, 79.18324999999999)\n",
      "(14344, 'Large Brilliant Shard', 231.25, 990, 6, 4.18, 197.9838, 227.68137)\n"
     ]
    }
   ],
   "source": [
    "herbs   = [8153,8836,13468,13466,13465,8845,8831,3355,2453,3369,2447,765,3356,3358,4625,2450,3821,3818,8846,8838,3820,3819,8839,2452,2449,785,13467,3357,13463,13464]\n",
    "cloth   = [2589,4306,4338,2592,14047,14256,14342,2996,2997,4305,4339,14048]\n",
    "mining  = [2772,3340,2771,2775,2770,5833,3858,2776,10620,7911,11370,18562,12360,2842,3575,3859,2840,2841,6037,3577,3576,3860,12359,17771,11371,12655,3861]\n",
    "enchant = [10940,11083,11137,11176,16204,10938,10939,10998,11082,11134,11135,11174,11175,16202,16203,10978,11084,11138,11139,11177,11178,14343,14344,20725]\n",
    "everything = herbs + cloth + mining + enchant\n",
    "\n",
    "\n",
    "results = []\n",
    "error = []\n",
    "for item in everything:\n",
    "    if get_data(item) == []:\n",
    "        error.append(item)\n",
    "    else:\n",
    "        name             = get_name(item)\n",
    "        current_dbmarket = get_current_dbmarket(item)\n",
    "        current_volume   = get_current_volume(item)\n",
    "        flip_max         = get_best_flip(item)\n",
    "        flip_auc         = get_flip_profile_auc(item)\n",
    "        purchase_price   = get_best_flip_price(item)\n",
    "        posting_price    = purchase_price*1.15\n",
    "\n",
    "        result = (item, name, current_dbmarket, current_volume, flip_max, flip_auc, purchase_price, posting_price)\n",
    "        results += [result]\n",
    "        print(result, sep=', ') \n",
    "\n",
    "df = pd.DataFrame(results, columns=['item', 'name', 'current_dbmarket', 'current_volume', 'flip_max', 'flip_auc', 'purchase_price', 'posting_price'])"
   ]
  },
  {
   "cell_type": "code",
   "execution_count": 201,
   "metadata": {},
   "outputs": [
    {
     "data": {
      "text/html": [
       "<div>\n",
       "<style scoped>\n",
       "    .dataframe tbody tr th:only-of-type {\n",
       "        vertical-align: middle;\n",
       "    }\n",
       "\n",
       "    .dataframe tbody tr th {\n",
       "        vertical-align: top;\n",
       "    }\n",
       "\n",
       "    .dataframe thead th {\n",
       "        text-align: right;\n",
       "    }\n",
       "</style>\n",
       "<table border=\"1\" class=\"dataframe\">\n",
       "  <thead>\n",
       "    <tr style=\"text-align: right;\">\n",
       "      <th></th>\n",
       "      <th>item</th>\n",
       "      <th>name</th>\n",
       "      <th>current_dbmarket</th>\n",
       "      <th>current_volume</th>\n",
       "      <th>flip_max</th>\n",
       "      <th>flip_auc</th>\n",
       "      <th>purchase_price</th>\n",
       "      <th>posting_price</th>\n",
       "    </tr>\n",
       "  </thead>\n",
       "  <tbody>\n",
       "    <tr>\n",
       "      <th>20</th>\n",
       "      <td>3820</td>\n",
       "      <td>Stranglekelp</td>\n",
       "      <td>19.56</td>\n",
       "      <td>261</td>\n",
       "      <td>19</td>\n",
       "      <td>12.58</td>\n",
       "      <td>21.9852</td>\n",
       "      <td>25.282980</td>\n",
       "    </tr>\n",
       "    <tr>\n",
       "      <th>30</th>\n",
       "      <td>2589</td>\n",
       "      <td>Linen Cloth</td>\n",
       "      <td>0.83</td>\n",
       "      <td>1235</td>\n",
       "      <td>16</td>\n",
       "      <td>12.40</td>\n",
       "      <td>0.3968</td>\n",
       "      <td>0.456320</td>\n",
       "    </tr>\n",
       "    <tr>\n",
       "      <th>31</th>\n",
       "      <td>4306</td>\n",
       "      <td>Silk Cloth</td>\n",
       "      <td>2.13</td>\n",
       "      <td>3024</td>\n",
       "      <td>17</td>\n",
       "      <td>12.39</td>\n",
       "      <td>1.7680</td>\n",
       "      <td>2.033200</td>\n",
       "    </tr>\n",
       "    <tr>\n",
       "      <th>27</th>\n",
       "      <td>3357</td>\n",
       "      <td>Liferoot</td>\n",
       "      <td>9.50</td>\n",
       "      <td>137</td>\n",
       "      <td>20</td>\n",
       "      <td>12.07</td>\n",
       "      <td>10.8300</td>\n",
       "      <td>12.454500</td>\n",
       "    </tr>\n",
       "    <tr>\n",
       "      <th>14</th>\n",
       "      <td>4625</td>\n",
       "      <td>Firebloom</td>\n",
       "      <td>25.65</td>\n",
       "      <td>235</td>\n",
       "      <td>19</td>\n",
       "      <td>11.06</td>\n",
       "      <td>27.9912</td>\n",
       "      <td>32.189880</td>\n",
       "    </tr>\n",
       "    <tr>\n",
       "      <th>22</th>\n",
       "      <td>8839</td>\n",
       "      <td>Blindweed</td>\n",
       "      <td>100.00</td>\n",
       "      <td>240</td>\n",
       "      <td>17</td>\n",
       "      <td>10.70</td>\n",
       "      <td>61.9600</td>\n",
       "      <td>71.254000</td>\n",
       "    </tr>\n",
       "    <tr>\n",
       "      <th>12</th>\n",
       "      <td>3356</td>\n",
       "      <td>Kingsblood</td>\n",
       "      <td>6.75</td>\n",
       "      <td>230</td>\n",
       "      <td>16</td>\n",
       "      <td>10.38</td>\n",
       "      <td>4.2520</td>\n",
       "      <td>4.889800</td>\n",
       "    </tr>\n",
       "    <tr>\n",
       "      <th>15</th>\n",
       "      <td>2450</td>\n",
       "      <td>Briarthorn</td>\n",
       "      <td>2.99</td>\n",
       "      <td>581</td>\n",
       "      <td>14</td>\n",
       "      <td>10.33</td>\n",
       "      <td>2.6512</td>\n",
       "      <td>3.048880</td>\n",
       "    </tr>\n",
       "    <tr>\n",
       "      <th>19</th>\n",
       "      <td>8838</td>\n",
       "      <td>Sungrass</td>\n",
       "      <td>51.22</td>\n",
       "      <td>408</td>\n",
       "      <td>17</td>\n",
       "      <td>10.06</td>\n",
       "      <td>27.0050</td>\n",
       "      <td>31.055750</td>\n",
       "    </tr>\n",
       "    <tr>\n",
       "      <th>34</th>\n",
       "      <td>14047</td>\n",
       "      <td>Runecloth</td>\n",
       "      <td>11.00</td>\n",
       "      <td>394</td>\n",
       "      <td>12</td>\n",
       "      <td>9.49</td>\n",
       "      <td>6.3500</td>\n",
       "      <td>7.302500</td>\n",
       "    </tr>\n",
       "    <tr>\n",
       "      <th>23</th>\n",
       "      <td>2452</td>\n",
       "      <td>Swiftthistle</td>\n",
       "      <td>72.65</td>\n",
       "      <td>489</td>\n",
       "      <td>17</td>\n",
       "      <td>9.46</td>\n",
       "      <td>68.0000</td>\n",
       "      <td>78.200000</td>\n",
       "    </tr>\n",
       "    <tr>\n",
       "      <th>17</th>\n",
       "      <td>3818</td>\n",
       "      <td>Fadeleaf</td>\n",
       "      <td>84.31</td>\n",
       "      <td>55</td>\n",
       "      <td>16</td>\n",
       "      <td>9.40</td>\n",
       "      <td>58.3050</td>\n",
       "      <td>67.050750</td>\n",
       "    </tr>\n",
       "    <tr>\n",
       "      <th>56</th>\n",
       "      <td>3575</td>\n",
       "      <td>Iron Bar</td>\n",
       "      <td>24.75</td>\n",
       "      <td>92</td>\n",
       "      <td>16</td>\n",
       "      <td>9.17</td>\n",
       "      <td>14.4500</td>\n",
       "      <td>16.617500</td>\n",
       "    </tr>\n",
       "    <tr>\n",
       "      <th>55</th>\n",
       "      <td>2842</td>\n",
       "      <td>Silver Bar</td>\n",
       "      <td>8.39</td>\n",
       "      <td>164</td>\n",
       "      <td>19</td>\n",
       "      <td>8.96</td>\n",
       "      <td>6.7528</td>\n",
       "      <td>7.765720</td>\n",
       "    </tr>\n",
       "    <tr>\n",
       "      <th>70</th>\n",
       "      <td>11176</td>\n",
       "      <td>Dream Dust</td>\n",
       "      <td>29.54</td>\n",
       "      <td>113</td>\n",
       "      <td>12</td>\n",
       "      <td>8.95</td>\n",
       "      <td>18.7900</td>\n",
       "      <td>21.608500</td>\n",
       "    </tr>\n",
       "    <tr>\n",
       "      <th>16</th>\n",
       "      <td>3821</td>\n",
       "      <td>Goldthorn</td>\n",
       "      <td>19.10</td>\n",
       "      <td>159</td>\n",
       "      <td>12</td>\n",
       "      <td>8.68</td>\n",
       "      <td>17.7976</td>\n",
       "      <td>20.467240</td>\n",
       "    </tr>\n",
       "    <tr>\n",
       "      <th>45</th>\n",
       "      <td>2775</td>\n",
       "      <td>Silver Ore</td>\n",
       "      <td>24.64</td>\n",
       "      <td>62</td>\n",
       "      <td>12</td>\n",
       "      <td>8.59</td>\n",
       "      <td>16.9007</td>\n",
       "      <td>19.435805</td>\n",
       "    </tr>\n",
       "    <tr>\n",
       "      <th>8</th>\n",
       "      <td>2453</td>\n",
       "      <td>Bruiseweed</td>\n",
       "      <td>1.72</td>\n",
       "      <td>111</td>\n",
       "      <td>14</td>\n",
       "      <td>8.46</td>\n",
       "      <td>1.0775</td>\n",
       "      <td>1.239125</td>\n",
       "    </tr>\n",
       "    <tr>\n",
       "      <th>5</th>\n",
       "      <td>8845</td>\n",
       "      <td>Ghost Mushroom</td>\n",
       "      <td>143.73</td>\n",
       "      <td>148</td>\n",
       "      <td>13</td>\n",
       "      <td>8.21</td>\n",
       "      <td>121.4836</td>\n",
       "      <td>139.706140</td>\n",
       "    </tr>\n",
       "    <tr>\n",
       "      <th>50</th>\n",
       "      <td>10620</td>\n",
       "      <td>Thorium Ore</td>\n",
       "      <td>20.76</td>\n",
       "      <td>224</td>\n",
       "      <td>11</td>\n",
       "      <td>7.96</td>\n",
       "      <td>18.0000</td>\n",
       "      <td>20.700000</td>\n",
       "    </tr>\n",
       "  </tbody>\n",
       "</table>\n",
       "</div>"
      ],
      "text/plain": [
       "     item            name  current_dbmarket  current_volume  flip_max  \\\n",
       "20   3820    Stranglekelp             19.56             261        19   \n",
       "30   2589     Linen Cloth              0.83            1235        16   \n",
       "31   4306      Silk Cloth              2.13            3024        17   \n",
       "27   3357        Liferoot              9.50             137        20   \n",
       "14   4625       Firebloom             25.65             235        19   \n",
       "22   8839       Blindweed            100.00             240        17   \n",
       "12   3356      Kingsblood              6.75             230        16   \n",
       "15   2450      Briarthorn              2.99             581        14   \n",
       "19   8838        Sungrass             51.22             408        17   \n",
       "34  14047       Runecloth             11.00             394        12   \n",
       "23   2452    Swiftthistle             72.65             489        17   \n",
       "17   3818        Fadeleaf             84.31              55        16   \n",
       "56   3575        Iron Bar             24.75              92        16   \n",
       "55   2842      Silver Bar              8.39             164        19   \n",
       "70  11176      Dream Dust             29.54             113        12   \n",
       "16   3821       Goldthorn             19.10             159        12   \n",
       "45   2775      Silver Ore             24.64              62        12   \n",
       "8    2453      Bruiseweed              1.72             111        14   \n",
       "5    8845  Ghost Mushroom            143.73             148        13   \n",
       "50  10620     Thorium Ore             20.76             224        11   \n",
       "\n",
       "    flip_auc  purchase_price  posting_price  \n",
       "20     12.58         21.9852      25.282980  \n",
       "30     12.40          0.3968       0.456320  \n",
       "31     12.39          1.7680       2.033200  \n",
       "27     12.07         10.8300      12.454500  \n",
       "14     11.06         27.9912      32.189880  \n",
       "22     10.70         61.9600      71.254000  \n",
       "12     10.38          4.2520       4.889800  \n",
       "15     10.33          2.6512       3.048880  \n",
       "19     10.06         27.0050      31.055750  \n",
       "34      9.49          6.3500       7.302500  \n",
       "23      9.46         68.0000      78.200000  \n",
       "17      9.40         58.3050      67.050750  \n",
       "56      9.17         14.4500      16.617500  \n",
       "55      8.96          6.7528       7.765720  \n",
       "70      8.95         18.7900      21.608500  \n",
       "16      8.68         17.7976      20.467240  \n",
       "45      8.59         16.9007      19.435805  \n",
       "8       8.46          1.0775       1.239125  \n",
       "5       8.21        121.4836     139.706140  \n",
       "50      7.96         18.0000      20.700000  "
      ]
     },
     "execution_count": 201,
     "metadata": {},
     "output_type": "execute_result"
    }
   ],
   "source": [
    "df.sort_values(by='flip_auc', ascending=False).head(20)"
   ]
  },
  {
   "cell_type": "code",
   "execution_count": 208,
   "metadata": {},
   "outputs": [
    {
     "data": {
      "text/html": [
       "<div>\n",
       "<style scoped>\n",
       "    .dataframe tbody tr th:only-of-type {\n",
       "        vertical-align: middle;\n",
       "    }\n",
       "\n",
       "    .dataframe tbody tr th {\n",
       "        vertical-align: top;\n",
       "    }\n",
       "\n",
       "    .dataframe thead th {\n",
       "        text-align: right;\n",
       "    }\n",
       "</style>\n",
       "<table border=\"1\" class=\"dataframe\">\n",
       "  <thead>\n",
       "    <tr style=\"text-align: right;\">\n",
       "      <th></th>\n",
       "      <th>item</th>\n",
       "      <th>name</th>\n",
       "      <th>current_dbmarket</th>\n",
       "      <th>current_volume</th>\n",
       "      <th>flip_max</th>\n",
       "      <th>flip_auc</th>\n",
       "      <th>purchase_price</th>\n",
       "      <th>posting_price</th>\n",
       "    </tr>\n",
       "  </thead>\n",
       "  <tbody>\n",
       "    <tr>\n",
       "      <th>56</th>\n",
       "      <td>3575</td>\n",
       "      <td>Iron Bar</td>\n",
       "      <td>24.75</td>\n",
       "      <td>92</td>\n",
       "      <td>16</td>\n",
       "      <td>9.17</td>\n",
       "      <td>14.4500</td>\n",
       "      <td>16.617500</td>\n",
       "    </tr>\n",
       "    <tr>\n",
       "      <th>55</th>\n",
       "      <td>2842</td>\n",
       "      <td>Silver Bar</td>\n",
       "      <td>8.39</td>\n",
       "      <td>164</td>\n",
       "      <td>19</td>\n",
       "      <td>8.96</td>\n",
       "      <td>6.7528</td>\n",
       "      <td>7.765720</td>\n",
       "    </tr>\n",
       "    <tr>\n",
       "      <th>45</th>\n",
       "      <td>2775</td>\n",
       "      <td>Silver Ore</td>\n",
       "      <td>24.64</td>\n",
       "      <td>62</td>\n",
       "      <td>12</td>\n",
       "      <td>8.59</td>\n",
       "      <td>16.9007</td>\n",
       "      <td>19.435805</td>\n",
       "    </tr>\n",
       "    <tr>\n",
       "      <th>50</th>\n",
       "      <td>10620</td>\n",
       "      <td>Thorium Ore</td>\n",
       "      <td>20.76</td>\n",
       "      <td>224</td>\n",
       "      <td>11</td>\n",
       "      <td>7.96</td>\n",
       "      <td>18.0000</td>\n",
       "      <td>20.700000</td>\n",
       "    </tr>\n",
       "    <tr>\n",
       "      <th>46</th>\n",
       "      <td>2770</td>\n",
       "      <td>Copper Ore</td>\n",
       "      <td>1.90</td>\n",
       "      <td>1061</td>\n",
       "      <td>11</td>\n",
       "      <td>7.44</td>\n",
       "      <td>2.0000</td>\n",
       "      <td>2.300000</td>\n",
       "    </tr>\n",
       "    <tr>\n",
       "      <th>44</th>\n",
       "      <td>2771</td>\n",
       "      <td>Tin Ore</td>\n",
       "      <td>3.91</td>\n",
       "      <td>209</td>\n",
       "      <td>11</td>\n",
       "      <td>6.78</td>\n",
       "      <td>2.7850</td>\n",
       "      <td>3.202750</td>\n",
       "    </tr>\n",
       "    <tr>\n",
       "      <th>42</th>\n",
       "      <td>2772</td>\n",
       "      <td>Iron Ore</td>\n",
       "      <td>9.42</td>\n",
       "      <td>217</td>\n",
       "      <td>11</td>\n",
       "      <td>6.47</td>\n",
       "      <td>8.0000</td>\n",
       "      <td>9.200000</td>\n",
       "    </tr>\n",
       "    <tr>\n",
       "      <th>64</th>\n",
       "      <td>12359</td>\n",
       "      <td>Thorium Bar</td>\n",
       "      <td>16.80</td>\n",
       "      <td>1223</td>\n",
       "      <td>13</td>\n",
       "      <td>6.40</td>\n",
       "      <td>36.0000</td>\n",
       "      <td>41.400000</td>\n",
       "    </tr>\n",
       "    <tr>\n",
       "      <th>49</th>\n",
       "      <td>2776</td>\n",
       "      <td>Gold Ore</td>\n",
       "      <td>11.00</td>\n",
       "      <td>40</td>\n",
       "      <td>9</td>\n",
       "      <td>5.83</td>\n",
       "      <td>12.6900</td>\n",
       "      <td>14.593500</td>\n",
       "    </tr>\n",
       "    <tr>\n",
       "      <th>52</th>\n",
       "      <td>11370</td>\n",
       "      <td>Dark Iron Ore</td>\n",
       "      <td>26.17</td>\n",
       "      <td>228</td>\n",
       "      <td>9</td>\n",
       "      <td>5.60</td>\n",
       "      <td>27.0000</td>\n",
       "      <td>31.050000</td>\n",
       "    </tr>\n",
       "    <tr>\n",
       "      <th>48</th>\n",
       "      <td>3858</td>\n",
       "      <td>Mithril Ore</td>\n",
       "      <td>8.89</td>\n",
       "      <td>370</td>\n",
       "      <td>8</td>\n",
       "      <td>5.16</td>\n",
       "      <td>11.7075</td>\n",
       "      <td>13.463625</td>\n",
       "    </tr>\n",
       "    <tr>\n",
       "      <th>53</th>\n",
       "      <td>18562</td>\n",
       "      <td>Elementium Ore</td>\n",
       "      <td>5556.52</td>\n",
       "      <td>7</td>\n",
       "      <td>7</td>\n",
       "      <td>4.35</td>\n",
       "      <td>5500.0000</td>\n",
       "      <td>6325.000000</td>\n",
       "    </tr>\n",
       "    <tr>\n",
       "      <th>61</th>\n",
       "      <td>3577</td>\n",
       "      <td>Gold Bar</td>\n",
       "      <td>11.75</td>\n",
       "      <td>144</td>\n",
       "      <td>10</td>\n",
       "      <td>4.33</td>\n",
       "      <td>11.6675</td>\n",
       "      <td>13.417625</td>\n",
       "    </tr>\n",
       "    <tr>\n",
       "      <th>59</th>\n",
       "      <td>2841</td>\n",
       "      <td>Bronze Bar</td>\n",
       "      <td>3.73</td>\n",
       "      <td>939</td>\n",
       "      <td>8</td>\n",
       "      <td>4.26</td>\n",
       "      <td>6.3600</td>\n",
       "      <td>7.314000</td>\n",
       "    </tr>\n",
       "    <tr>\n",
       "      <th>58</th>\n",
       "      <td>2840</td>\n",
       "      <td>Copper Bar</td>\n",
       "      <td>2.15</td>\n",
       "      <td>1210</td>\n",
       "      <td>8</td>\n",
       "      <td>4.18</td>\n",
       "      <td>2.5450</td>\n",
       "      <td>2.926750</td>\n",
       "    </tr>\n",
       "    <tr>\n",
       "      <th>51</th>\n",
       "      <td>7911</td>\n",
       "      <td>Truesilver Ore</td>\n",
       "      <td>11.55</td>\n",
       "      <td>82</td>\n",
       "      <td>6</td>\n",
       "      <td>3.65</td>\n",
       "      <td>12.1800</td>\n",
       "      <td>14.007000</td>\n",
       "    </tr>\n",
       "    <tr>\n",
       "      <th>60</th>\n",
       "      <td>6037</td>\n",
       "      <td>Truesilver Bar</td>\n",
       "      <td>18.47</td>\n",
       "      <td>146</td>\n",
       "      <td>7</td>\n",
       "      <td>3.39</td>\n",
       "      <td>14.0128</td>\n",
       "      <td>16.114720</td>\n",
       "    </tr>\n",
       "    <tr>\n",
       "      <th>43</th>\n",
       "      <td>3340</td>\n",
       "      <td>Incendicite Ore</td>\n",
       "      <td>4.93</td>\n",
       "      <td>6</td>\n",
       "      <td>6</td>\n",
       "      <td>3.25</td>\n",
       "      <td>4.9900</td>\n",
       "      <td>5.738500</td>\n",
       "    </tr>\n",
       "    <tr>\n",
       "      <th>63</th>\n",
       "      <td>3860</td>\n",
       "      <td>Mithril Bar</td>\n",
       "      <td>13.86</td>\n",
       "      <td>691</td>\n",
       "      <td>6</td>\n",
       "      <td>3.18</td>\n",
       "      <td>11.9320</td>\n",
       "      <td>13.721800</td>\n",
       "    </tr>\n",
       "    <tr>\n",
       "      <th>62</th>\n",
       "      <td>3576</td>\n",
       "      <td>Tin Bar</td>\n",
       "      <td>2.67</td>\n",
       "      <td>532</td>\n",
       "      <td>7</td>\n",
       "      <td>2.96</td>\n",
       "      <td>2.4600</td>\n",
       "      <td>2.829000</td>\n",
       "    </tr>\n",
       "    <tr>\n",
       "      <th>57</th>\n",
       "      <td>3859</td>\n",
       "      <td>Steel Bar</td>\n",
       "      <td>27.36</td>\n",
       "      <td>107</td>\n",
       "      <td>5</td>\n",
       "      <td>2.79</td>\n",
       "      <td>29.9800</td>\n",
       "      <td>34.477000</td>\n",
       "    </tr>\n",
       "    <tr>\n",
       "      <th>65</th>\n",
       "      <td>11371</td>\n",
       "      <td>Dark Iron Bar</td>\n",
       "      <td>574.99</td>\n",
       "      <td>62</td>\n",
       "      <td>4</td>\n",
       "      <td>2.27</td>\n",
       "      <td>560.6200</td>\n",
       "      <td>644.713000</td>\n",
       "    </tr>\n",
       "    <tr>\n",
       "      <th>66</th>\n",
       "      <td>12655</td>\n",
       "      <td>Enchanted Thorium Bar</td>\n",
       "      <td>97.99</td>\n",
       "      <td>20</td>\n",
       "      <td>3</td>\n",
       "      <td>2.27</td>\n",
       "      <td>99.9600</td>\n",
       "      <td>114.954000</td>\n",
       "    </tr>\n",
       "    <tr>\n",
       "      <th>54</th>\n",
       "      <td>12360</td>\n",
       "      <td>Arcanite Bar</td>\n",
       "      <td>6744.99</td>\n",
       "      <td>8</td>\n",
       "      <td>2</td>\n",
       "      <td>1.09</td>\n",
       "      <td>6670.0000</td>\n",
       "      <td>7670.500000</td>\n",
       "    </tr>\n",
       "    <tr>\n",
       "      <th>47</th>\n",
       "      <td>5833</td>\n",
       "      <td>Indurium Ore</td>\n",
       "      <td>0.99</td>\n",
       "      <td>6</td>\n",
       "      <td>1</td>\n",
       "      <td>0.32</td>\n",
       "      <td>4.8400</td>\n",
       "      <td>5.566000</td>\n",
       "    </tr>\n",
       "  </tbody>\n",
       "</table>\n",
       "</div>"
      ],
      "text/plain": [
       "     item                   name  current_dbmarket  current_volume  flip_max  \\\n",
       "56   3575               Iron Bar             24.75              92        16   \n",
       "55   2842             Silver Bar              8.39             164        19   \n",
       "45   2775             Silver Ore             24.64              62        12   \n",
       "50  10620            Thorium Ore             20.76             224        11   \n",
       "46   2770             Copper Ore              1.90            1061        11   \n",
       "44   2771                Tin Ore              3.91             209        11   \n",
       "42   2772               Iron Ore              9.42             217        11   \n",
       "64  12359            Thorium Bar             16.80            1223        13   \n",
       "49   2776               Gold Ore             11.00              40         9   \n",
       "52  11370          Dark Iron Ore             26.17             228         9   \n",
       "48   3858            Mithril Ore              8.89             370         8   \n",
       "53  18562         Elementium Ore           5556.52               7         7   \n",
       "61   3577               Gold Bar             11.75             144        10   \n",
       "59   2841             Bronze Bar              3.73             939         8   \n",
       "58   2840             Copper Bar              2.15            1210         8   \n",
       "51   7911         Truesilver Ore             11.55              82         6   \n",
       "60   6037         Truesilver Bar             18.47             146         7   \n",
       "43   3340        Incendicite Ore              4.93               6         6   \n",
       "63   3860            Mithril Bar             13.86             691         6   \n",
       "62   3576                Tin Bar              2.67             532         7   \n",
       "57   3859              Steel Bar             27.36             107         5   \n",
       "65  11371          Dark Iron Bar            574.99              62         4   \n",
       "66  12655  Enchanted Thorium Bar             97.99              20         3   \n",
       "54  12360           Arcanite Bar           6744.99               8         2   \n",
       "47   5833           Indurium Ore              0.99               6         1   \n",
       "\n",
       "    flip_auc  purchase_price  posting_price  \n",
       "56      9.17         14.4500      16.617500  \n",
       "55      8.96          6.7528       7.765720  \n",
       "45      8.59         16.9007      19.435805  \n",
       "50      7.96         18.0000      20.700000  \n",
       "46      7.44          2.0000       2.300000  \n",
       "44      6.78          2.7850       3.202750  \n",
       "42      6.47          8.0000       9.200000  \n",
       "64      6.40         36.0000      41.400000  \n",
       "49      5.83         12.6900      14.593500  \n",
       "52      5.60         27.0000      31.050000  \n",
       "48      5.16         11.7075      13.463625  \n",
       "53      4.35       5500.0000    6325.000000  \n",
       "61      4.33         11.6675      13.417625  \n",
       "59      4.26          6.3600       7.314000  \n",
       "58      4.18          2.5450       2.926750  \n",
       "51      3.65         12.1800      14.007000  \n",
       "60      3.39         14.0128      16.114720  \n",
       "43      3.25          4.9900       5.738500  \n",
       "63      3.18         11.9320      13.721800  \n",
       "62      2.96          2.4600       2.829000  \n",
       "57      2.79         29.9800      34.477000  \n",
       "65      2.27        560.6200     644.713000  \n",
       "66      2.27         99.9600     114.954000  \n",
       "54      1.09       6670.0000    7670.500000  \n",
       "47      0.32          4.8400       5.566000  "
      ]
     },
     "execution_count": 208,
     "metadata": {},
     "output_type": "execute_result"
    }
   ],
   "source": [
    "df.loc[df['item'].isin(mining)].sort_values(by='flip_auc', ascending=False)"
   ]
  },
  {
   "cell_type": "markdown",
   "metadata": {},
   "source": [
    "### Single Item Deep Dive"
   ]
  },
  {
   "cell_type": "code",
   "execution_count": 209,
   "metadata": {},
   "outputs": [
    {
     "data": {
      "text/plain": [
       "'Copper Ore'"
      ]
     },
     "execution_count": 209,
     "metadata": {},
     "output_type": "execute_result"
    }
   ],
   "source": [
    "item = 2770\n",
    "get_name(item)"
   ]
  },
  {
   "cell_type": "code",
   "execution_count": 210,
   "metadata": {},
   "outputs": [
    {
     "data": {
      "image/png": "[encoded data removed]",
      "text/plain": [
       "<Figure size 432x288 with 1 Axes>"
      ]
     },
     "metadata": {
      "needs_background": "light"
     },
     "output_type": "display_data"
    }
   ],
   "source": [
    "plot_minBuyout(item)\n"
   ]
  },
  {
   "cell_type": "code",
   "execution_count": 211,
   "metadata": {},
   "outputs": [
    {
     "data": {
      "image/png": "[encoded data removed]",
      "text/plain": [
       "<Figure size 432x288 with 1 Axes>"
      ]
     },
     "metadata": {
      "needs_background": "light"
     },
     "output_type": "display_data"
    }
   ],
   "source": [
    "plot_flip_profile(item)"
   ]
  },
  {
   "cell_type": "code",
   "execution_count": 212,
   "metadata": {},
   "outputs": [
    {
     "data": {
      "image/png": "[encoded data removed]",
      "text/plain": [
       "<Figure size 432x288 with 1 Axes>"
      ]
     },
     "metadata": {
      "needs_background": "light"
     },
     "output_type": "display_data"
    }
   ],
   "source": [
    "plot_profit_profile(item)"
   ]
  },
  {
   "cell_type": "code",
   "execution_count": 213,
   "metadata": {},
   "outputs": [
    {
     "data": {
      "text/plain": [
       "0.35"
      ]
     },
     "execution_count": 213,
     "metadata": {},
     "output_type": "execute_result"
    }
   ],
   "source": [
    "get_best_flip_pctile(item)"
   ]
  },
  {
   "cell_type": "code",
   "execution_count": 214,
   "metadata": {},
   "outputs": [
    {
     "data": {
      "text/plain": [
       "2.0"
      ]
     },
     "execution_count": 214,
     "metadata": {},
     "output_type": "execute_result"
    }
   ],
   "source": [
    "get_best_flip_price(item)"
   ]
  },
  {
   "cell_type": "code",
   "execution_count": 215,
   "metadata": {},
   "outputs": [
    {
     "data": {
      "image/png": "[encoded data removed]",
      "text/plain": [
       "<Figure size 432x288 with 1 Axes>"
      ]
     },
     "metadata": {
      "needs_background": "light"
     },
     "output_type": "display_data"
    }
   ],
   "source": [
    "plot_dbmarket(item)"
   ]
  },
  {
   "cell_type": "code",
   "execution_count": null,
   "metadata": {},
   "outputs": [],
   "source": []
  }
 ],
 "metadata": {
  "kernelspec": {
   "display_name": "Python 3",
   "language": "python",
   "name": "python3"
  },
  "language_info": {
   "codemirror_mode": {
    "name": "ipython",
    "version": 3
   },
   "file_extension": ".py",
   "mimetype": "text/x-python",
   "name": "python",
   "nbconvert_exporter": "python",
   "pygments_lexer": "ipython3",
   "version": "3.7.6"
  }
 },
 "nbformat": 4,
 "nbformat_minor": 4
}
