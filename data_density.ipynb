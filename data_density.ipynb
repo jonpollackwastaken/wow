{
 "cells": [
  {
   "cell_type": "code",
   "execution_count": null,
   "metadata": {},
   "outputs": [],
   "source": []
  },
  {
   "cell_type": "code",
   "execution_count": null,
   "metadata": {},
   "outputs": [],
   "source": []
  },
  {
   "cell_type": "code",
   "execution_count": 99,
   "metadata": {},
   "outputs": [],
   "source": [
    "import matplotlib as plt\n",
    "plt.rcParams['figure.figsize'] = (8,6)\n",
    "\n",
    "import seaborn as sns\n",
    "sns.set_context('notebook')"
   ]
  },
  {
   "cell_type": "code",
   "execution_count": 100,
   "metadata": {},
   "outputs": [
    {
     "name": "stdout",
     "output_type": "stream",
     "text": [
      "\n",
      "Usage: \n",
      "  db = DB(server)          --> initializes database\n",
      "  db.get_df(item)          --> returns dataframe, prices divided by 100 so copper in decimal \n",
      "  db.get_name(item)        --> returns name of item  \n",
      "  db.get_last_record(item) --> returns most recent record\n",
      "  db.plot(item, y)         --> plots column over time\n",
      "\n"
     ]
    }
   ],
   "source": [
    "%run AH_DATABASE.ipynb\n",
    "db = DB('earthfury-alliance', timerange=30)"
   ]
  },
  {
   "cell_type": "code",
   "execution_count": 101,
   "metadata": {},
   "outputs": [],
   "source": [
    "item = 2840\n",
    "df = db.get_df(item)\n",
    "df['hour'] = df['scannedAt'].dt.hour"
   ]
  },
  {
   "cell_type": "code",
   "execution_count": 102,
   "metadata": {},
   "outputs": [
    {
     "data": {
      "text/plain": [
       "<matplotlib.axes._subplots.AxesSubplot at 0x256915bc388>"
      ]
     },
     "execution_count": 102,
     "metadata": {},
     "output_type": "execute_result"
    },
    {
     "data": {
      "image/png": "[encoded data removed]",
      "text/plain": [
       "<Figure size 576x432 with 1 Axes>"
      ]
     },
     "metadata": {
      "needs_background": "light"
     },
     "output_type": "display_data"
    }
   ],
   "source": [
    "# records per day\n",
    "df.groupby(by=df['scannedAt'].dt.date)['minBuyout'].count().plot(kind='box')"
   ]
  },
  {
   "cell_type": "code",
   "execution_count": 103,
   "metadata": {},
   "outputs": [
    {
     "data": {
      "text/plain": [
       "<matplotlib.axes._subplots.AxesSubplot at 0x256920f58c8>"
      ]
     },
     "execution_count": 103,
     "metadata": {},
     "output_type": "execute_result"
    },
    {
     "data": {
      "image/png": "[encoded data removed]",
      "text/plain": [
       "<Figure size 576x432 with 1 Axes>"
      ]
     },
     "metadata": {
      "needs_background": "light"
     },
     "output_type": "display_data"
    }
   ],
   "source": [
    "df.plot(x='scannedAt', y='hour', style='.')"
   ]
  },
  {
   "cell_type": "markdown",
   "metadata": {},
   "source": [
    "## Resample Hourly"
   ]
  },
  {
   "cell_type": "code",
   "execution_count": 104,
   "metadata": {},
   "outputs": [
    {
     "data": {
      "text/html": [
       "<div>\n",
       "<style scoped>\n",
       "    .dataframe tbody tr th:only-of-type {\n",
       "        vertical-align: middle;\n",
       "    }\n",
       "\n",
       "    .dataframe tbody tr th {\n",
       "        vertical-align: top;\n",
       "    }\n",
       "\n",
       "    .dataframe thead th {\n",
       "        text-align: right;\n",
       "    }\n",
       "</style>\n",
       "<table border=\"1\" class=\"dataframe\">\n",
       "  <thead>\n",
       "    <tr style=\"text-align: right;\">\n",
       "      <th></th>\n",
       "      <th>marketValue</th>\n",
       "      <th>minBuyout</th>\n",
       "      <th>quantity</th>\n",
       "      <th>minBuyoutPctile</th>\n",
       "      <th>hour</th>\n",
       "    </tr>\n",
       "    <tr>\n",
       "      <th>scannedAt</th>\n",
       "      <th></th>\n",
       "      <th></th>\n",
       "      <th></th>\n",
       "      <th></th>\n",
       "      <th></th>\n",
       "    </tr>\n",
       "  </thead>\n",
       "  <tbody>\n",
       "    <tr>\n",
       "      <th>2020-05-04 00:00:00+00:00</th>\n",
       "      <td>3.490</td>\n",
       "      <td>2.790</td>\n",
       "      <td>579.0</td>\n",
       "      <td>0.323478</td>\n",
       "      <td>0.0</td>\n",
       "    </tr>\n",
       "    <tr>\n",
       "      <th>2020-05-04 01:00:00+00:00</th>\n",
       "      <td>3.835</td>\n",
       "      <td>0.195</td>\n",
       "      <td>414.0</td>\n",
       "      <td>0.002609</td>\n",
       "      <td>1.0</td>\n",
       "    </tr>\n",
       "    <tr>\n",
       "      <th>2020-05-04 02:00:00+00:00</th>\n",
       "      <td>2.070</td>\n",
       "      <td>1.950</td>\n",
       "      <td>650.0</td>\n",
       "      <td>0.080000</td>\n",
       "      <td>2.0</td>\n",
       "    </tr>\n",
       "    <tr>\n",
       "      <th>2020-05-04 03:00:00+00:00</th>\n",
       "      <td>3.870</td>\n",
       "      <td>2.450</td>\n",
       "      <td>458.0</td>\n",
       "      <td>0.217391</td>\n",
       "      <td>3.0</td>\n",
       "    </tr>\n",
       "    <tr>\n",
       "      <th>2020-05-04 04:00:00+00:00</th>\n",
       "      <td>NaN</td>\n",
       "      <td>NaN</td>\n",
       "      <td>NaN</td>\n",
       "      <td>NaN</td>\n",
       "      <td>NaN</td>\n",
       "    </tr>\n",
       "    <tr>\n",
       "      <th>...</th>\n",
       "      <td>...</td>\n",
       "      <td>...</td>\n",
       "      <td>...</td>\n",
       "      <td>...</td>\n",
       "      <td>...</td>\n",
       "    </tr>\n",
       "    <tr>\n",
       "      <th>2020-06-02 10:00:00+00:00</th>\n",
       "      <td>4.990</td>\n",
       "      <td>4.710</td>\n",
       "      <td>1858.0</td>\n",
       "      <td>0.811304</td>\n",
       "      <td>10.0</td>\n",
       "    </tr>\n",
       "    <tr>\n",
       "      <th>2020-06-02 11:00:00+00:00</th>\n",
       "      <td>4.930</td>\n",
       "      <td>4.000</td>\n",
       "      <td>1833.0</td>\n",
       "      <td>0.686087</td>\n",
       "      <td>11.0</td>\n",
       "    </tr>\n",
       "    <tr>\n",
       "      <th>2020-06-02 12:00:00+00:00</th>\n",
       "      <td>4.950</td>\n",
       "      <td>4.000</td>\n",
       "      <td>1763.0</td>\n",
       "      <td>0.686087</td>\n",
       "      <td>12.0</td>\n",
       "    </tr>\n",
       "    <tr>\n",
       "      <th>2020-06-02 13:00:00+00:00</th>\n",
       "      <td>NaN</td>\n",
       "      <td>NaN</td>\n",
       "      <td>NaN</td>\n",
       "      <td>NaN</td>\n",
       "      <td>NaN</td>\n",
       "    </tr>\n",
       "    <tr>\n",
       "      <th>2020-06-02 14:00:00+00:00</th>\n",
       "      <td>4.900</td>\n",
       "      <td>4.000</td>\n",
       "      <td>1996.0</td>\n",
       "      <td>0.686087</td>\n",
       "      <td>14.0</td>\n",
       "    </tr>\n",
       "  </tbody>\n",
       "</table>\n",
       "<p>711 rows × 5 columns</p>\n",
       "</div>"
      ],
      "text/plain": [
       "                           marketValue  minBuyout  quantity  minBuyoutPctile  \\\n",
       "scannedAt                                                                      \n",
       "2020-05-04 00:00:00+00:00        3.490      2.790     579.0         0.323478   \n",
       "2020-05-04 01:00:00+00:00        3.835      0.195     414.0         0.002609   \n",
       "2020-05-04 02:00:00+00:00        2.070      1.950     650.0         0.080000   \n",
       "2020-05-04 03:00:00+00:00        3.870      2.450     458.0         0.217391   \n",
       "2020-05-04 04:00:00+00:00          NaN        NaN       NaN              NaN   \n",
       "...                                ...        ...       ...              ...   \n",
       "2020-06-02 10:00:00+00:00        4.990      4.710    1858.0         0.811304   \n",
       "2020-06-02 11:00:00+00:00        4.930      4.000    1833.0         0.686087   \n",
       "2020-06-02 12:00:00+00:00        4.950      4.000    1763.0         0.686087   \n",
       "2020-06-02 13:00:00+00:00          NaN        NaN       NaN              NaN   \n",
       "2020-06-02 14:00:00+00:00        4.900      4.000    1996.0         0.686087   \n",
       "\n",
       "                           hour  \n",
       "scannedAt                        \n",
       "2020-05-04 00:00:00+00:00   0.0  \n",
       "2020-05-04 01:00:00+00:00   1.0  \n",
       "2020-05-04 02:00:00+00:00   2.0  \n",
       "2020-05-04 03:00:00+00:00   3.0  \n",
       "2020-05-04 04:00:00+00:00   NaN  \n",
       "...                         ...  \n",
       "2020-06-02 10:00:00+00:00  10.0  \n",
       "2020-06-02 11:00:00+00:00  11.0  \n",
       "2020-06-02 12:00:00+00:00  12.0  \n",
       "2020-06-02 13:00:00+00:00   NaN  \n",
       "2020-06-02 14:00:00+00:00  14.0  \n",
       "\n",
       "[711 rows x 5 columns]"
      ]
     },
     "execution_count": 104,
     "metadata": {},
     "output_type": "execute_result"
    }
   ],
   "source": [
    "# resample hourly check non-nan\n",
    "dfr = df.resample('60min', on='scannedAt').mean()\n",
    "dfr"
   ]
  },
  {
   "cell_type": "code",
   "execution_count": 91,
   "metadata": {},
   "outputs": [
    {
     "name": "stdout",
     "output_type": "stream",
     "text": [
      "196 nan values 0.38%\n"
     ]
    }
   ],
   "source": [
    "def check_nan(df):\n",
    "    isna = dfr['minBuyout'].isna().sum()\n",
    "    pctna = round(isna/dfr[\"minBuyout\"].count(),2)\n",
    "    print(f'{isna} nan values {pctna}%')\n",
    "    \n",
    "check_nan(dfr)"
   ]
  },
  {
   "cell_type": "code",
   "execution_count": null,
   "metadata": {},
   "outputs": [],
   "source": [
    "### R"
   ]
  },
  {
   "cell_type": "code",
   "execution_count": 92,
   "metadata": {},
   "outputs": [
    {
     "name": "stdout",
     "output_type": "stream",
     "text": [
      "0 nan values 0.0%\n"
     ]
    }
   ],
   "source": [
    "dfr = df.resample('60min', on='scannedAt').mean().ffill().reset_index()\n",
    "dfr['hour'] = dfr['scannedAt'].dt.hour\n",
    "check_nan(dfr)"
   ]
  },
  {
   "cell_type": "code",
   "execution_count": 93,
   "metadata": {},
   "outputs": [
    {
     "data": {
      "text/plain": [
       "<matplotlib.axes._subplots.AxesSubplot at 0x256914bccc8>"
      ]
     },
     "execution_count": 93,
     "metadata": {},
     "output_type": "execute_result"
    },
    {
     "data": {
      "image/png": "[encoded data removed]",
      "text/plain": [
       "<Figure size 1152x576 with 1 Axes>"
      ]
     },
     "metadata": {
      "needs_background": "light"
     },
     "output_type": "display_data"
    }
   ],
   "source": [
    "dfr.plot(x='scannedAt', y='hour', style='.')"
   ]
  },
  {
   "cell_type": "code",
   "execution_count": null,
   "metadata": {},
   "outputs": [],
   "source": []
  }
 ],
 "metadata": {
  "kernelspec": {
   "display_name": "Python 3",
   "language": "python",
   "name": "python3"
  },
  "language_info": {
   "codemirror_mode": {
    "name": "ipython",
    "version": 3
   },
   "file_extension": ".py",
   "mimetype": "text/x-python",
   "name": "python",
   "nbconvert_exporter": "python",
   "pygments_lexer": "ipython3",
   "version": "3.7.6"
  }
 },
 "nbformat": 4,
 "nbformat_minor": 4
}
