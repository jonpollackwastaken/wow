{
 "cells": [
  {
   "cell_type": "code",
   "execution_count": 3,
   "metadata": {},
   "outputs": [],
   "source": [
    "herbs    = [8153,8836,13468,13466,13465,8845,8831,3355,2453,3369,2447,765,3356,3358,4625,2450,3821,3818,8846,8838,3820,3819,8839,2452,2449,785,13467,3357,13463,13464]\n",
    "cloth    = [2589,4306,4338,2592,14047,14256,14342,2996,2997,4305,4339,14048]\n",
    "mining   = [2772,3340,2771,2775,2770,5833,3858,2776,10620,7911,11370,18562,12360,2842,3575,3859,2840,2841,6037,3577,3576,3860,12359,17771,11371,12655,3861]\n",
    "enchant  = [10940,11083,11137,11176,16204,10938,10939,10998,11082,11134,11135,11174,11175,16202,16203,10978,11084,11138,11139,11177,11178,14343,14344,20725]\n",
    "skinning = [2934,2318,783,2319,4232,4234,4235,4304,8169,8170,8171] \n",
    "ALL = herbs + cloth + mining + enchant + skinning"
   ]
  },
  {
   "cell_type": "code",
   "execution_count": 4,
   "metadata": {},
   "outputs": [
    {
     "name": "stdout",
     "output_type": "stream",
     "text": [
      "\n",
      "loaded\n",
      "  herbs    : 30 items\n",
      "  cloth    : 12 items\n",
      "  mining   : 27 items\n",
      "  enchant  : 24 items\n",
      "  skinning : 11 items\n",
      "  ALL      : 104 items\n",
      "  \n",
      "  \n",
      "\n"
     ]
    }
   ],
   "source": [
    "print(f'''\n",
    "loaded\n",
    "  herbs    : {len(herbs)} items\n",
    "  cloth    : {len(cloth)} items\n",
    "  mining   : {len(mining)} items\n",
    "  enchant  : {len(enchant)} items\n",
    "  skinning : {len(skinning)} items\n",
    "  ALL      : {len(ALL)} items\n",
    "''')"
   ]
  }
 ],
 "metadata": {
  "kernelspec": {
   "display_name": "Python 3",
   "language": "python",
   "name": "python3"
  },
  "language_info": {
   "codemirror_mode": {
    "name": "ipython",
    "version": 3
   },
   "file_extension": ".py",
   "mimetype": "text/x-python",
   "name": "python",
   "nbconvert_exporter": "python",
   "pygments_lexer": "ipython3",
   "version": "3.7.6"
  }
 },
 "nbformat": 4,
 "nbformat_minor": 4
}
