{
 "cells": [
  {
   "cell_type": "code",
   "execution_count": 12,
   "metadata": {},
   "outputs": [],
   "source": [
    "import pandas as pd\n",
    "import math\n",
    "import numpy as np"
   ]
  },
  {
   "cell_type": "code",
   "execution_count": 4,
   "metadata": {},
   "outputs": [],
   "source": [
    "data = []\n",
    "\n",
    "for s in range(1,100):\n",
    "    s /= 100\n",
    "    for b in range(1, 100):\n",
    "        b /= 100\n",
    "        approx = 1 / (s*b)\n",
    "        actual = (s+b) / (s*b) - 1\n",
    "        d = {'s':s,'b':b,'approx':approx,'actual':actual}\n",
    "        data.append(d)\n",
    "        \n",
    "df = pd.DataFrame(data)\n",
    "        "
   ]
  },
  {
   "cell_type": "code",
   "execution_count": 14,
   "metadata": {
    "scrolled": true
   },
   "outputs": [
    {
     "data": {
      "text/html": [
       "<div>\n",
       "<style scoped>\n",
       "    .dataframe tbody tr th:only-of-type {\n",
       "        vertical-align: middle;\n",
       "    }\n",
       "\n",
       "    .dataframe tbody tr th {\n",
       "        vertical-align: top;\n",
       "    }\n",
       "\n",
       "    .dataframe thead th {\n",
       "        text-align: right;\n",
       "    }\n",
       "</style>\n",
       "<table border=\"1\" class=\"dataframe\">\n",
       "  <thead>\n",
       "    <tr style=\"text-align: right;\">\n",
       "      <th></th>\n",
       "      <th>s</th>\n",
       "      <th>b</th>\n",
       "      <th>approx</th>\n",
       "      <th>actual</th>\n",
       "      <th>diff_log</th>\n",
       "    </tr>\n",
       "  </thead>\n",
       "  <tbody>\n",
       "    <tr>\n",
       "      <th>0</th>\n",
       "      <td>0.01</td>\n",
       "      <td>0.01</td>\n",
       "      <td>10000.000000</td>\n",
       "      <td>199.000000</td>\n",
       "      <td>9.190240</td>\n",
       "    </tr>\n",
       "    <tr>\n",
       "      <th>1</th>\n",
       "      <td>0.01</td>\n",
       "      <td>0.02</td>\n",
       "      <td>5000.000000</td>\n",
       "      <td>149.000000</td>\n",
       "      <td>8.486940</td>\n",
       "    </tr>\n",
       "    <tr>\n",
       "      <th>2</th>\n",
       "      <td>0.01</td>\n",
       "      <td>0.03</td>\n",
       "      <td>3333.333333</td>\n",
       "      <td>132.333333</td>\n",
       "      <td>8.071219</td>\n",
       "    </tr>\n",
       "    <tr>\n",
       "      <th>3</th>\n",
       "      <td>0.01</td>\n",
       "      <td>0.04</td>\n",
       "      <td>2500.000000</td>\n",
       "      <td>124.000000</td>\n",
       "      <td>7.773174</td>\n",
       "    </tr>\n",
       "    <tr>\n",
       "      <th>4</th>\n",
       "      <td>0.01</td>\n",
       "      <td>0.05</td>\n",
       "      <td>2000.000000</td>\n",
       "      <td>119.000000</td>\n",
       "      <td>7.539559</td>\n",
       "    </tr>\n",
       "    <tr>\n",
       "      <th>...</th>\n",
       "      <td>...</td>\n",
       "      <td>...</td>\n",
       "      <td>...</td>\n",
       "      <td>...</td>\n",
       "      <td>...</td>\n",
       "    </tr>\n",
       "    <tr>\n",
       "      <th>9796</th>\n",
       "      <td>0.99</td>\n",
       "      <td>0.95</td>\n",
       "      <td>1.063264</td>\n",
       "      <td>1.062733</td>\n",
       "      <td>-7.539559</td>\n",
       "    </tr>\n",
       "    <tr>\n",
       "      <th>9797</th>\n",
       "      <td>0.99</td>\n",
       "      <td>0.96</td>\n",
       "      <td>1.052189</td>\n",
       "      <td>1.051768</td>\n",
       "      <td>-7.773174</td>\n",
       "    </tr>\n",
       "    <tr>\n",
       "      <th>9798</th>\n",
       "      <td>0.99</td>\n",
       "      <td>0.97</td>\n",
       "      <td>1.041341</td>\n",
       "      <td>1.041029</td>\n",
       "      <td>-8.071219</td>\n",
       "    </tr>\n",
       "    <tr>\n",
       "      <th>9799</th>\n",
       "      <td>0.99</td>\n",
       "      <td>0.98</td>\n",
       "      <td>1.030715</td>\n",
       "      <td>1.030509</td>\n",
       "      <td>-8.486940</td>\n",
       "    </tr>\n",
       "    <tr>\n",
       "      <th>9800</th>\n",
       "      <td>0.99</td>\n",
       "      <td>0.99</td>\n",
       "      <td>1.020304</td>\n",
       "      <td>1.020202</td>\n",
       "      <td>-9.190240</td>\n",
       "    </tr>\n",
       "  </tbody>\n",
       "</table>\n",
       "<p>9801 rows × 5 columns</p>\n",
       "</div>"
      ],
      "text/plain": [
       "         s     b        approx      actual  diff_log\n",
       "0     0.01  0.01  10000.000000  199.000000  9.190240\n",
       "1     0.01  0.02   5000.000000  149.000000  8.486940\n",
       "2     0.01  0.03   3333.333333  132.333333  8.071219\n",
       "3     0.01  0.04   2500.000000  124.000000  7.773174\n",
       "4     0.01  0.05   2000.000000  119.000000  7.539559\n",
       "...    ...   ...           ...         ...       ...\n",
       "9796  0.99  0.95      1.063264    1.062733 -7.539559\n",
       "9797  0.99  0.96      1.052189    1.051768 -7.773174\n",
       "9798  0.99  0.97      1.041341    1.041029 -8.071219\n",
       "9799  0.99  0.98      1.030715    1.030509 -8.486940\n",
       "9800  0.99  0.99      1.020304    1.020202 -9.190240\n",
       "\n",
       "[9801 rows x 5 columns]"
      ]
     },
     "execution_count": 14,
     "metadata": {},
     "output_type": "execute_result"
    }
   ],
   "source": [
    "df['diff_log'] = np.log((df['approx']-df['actual']).abs())\n",
    "\n",
    "df"
   ]
  },
  {
   "cell_type": "code",
   "execution_count": 15,
   "metadata": {},
   "outputs": [],
   "source": [
    "import matplotlib.pyplot as plt"
   ]
  },
  {
   "cell_type": "code",
   "execution_count": 23,
   "metadata": {
    "scrolled": true
   },
   "outputs": [
    {
     "data": {
      "text/plain": [
       "<matplotlib.colorbar.Colorbar at 0x25c5c7f4ec8>"
      ]
     },
     "execution_count": 23,
     "metadata": {},
     "output_type": "execute_result"
    },
    {
     "data": {
      "image/png": "[encoded data removed]",
      "text/plain": [
       "<Figure size 432x288 with 2 Axes>"
      ]
     },
     "metadata": {
      "needs_background": "light"
     },
     "output_type": "display_data"
    }
   ],
   "source": [
    "S, B = np.meshgrid(np.linspace(0.01,0.99,100),np.linspace(0.01,0.99,100))\n",
    "APPROX = 1 / (S*B)\n",
    "ACTUAL = (S+B)/(S*B) - 1\n",
    "DIFF = np.log(APPROX/ACTUAL)\n",
    "\n",
    "plt.pcolor(S,B,DIFF)\n",
    "plt.colorbar()"
   ]
  },
  {
   "cell_type": "code",
   "execution_count": null,
   "metadata": {},
   "outputs": [],
   "source": []
  }
 ],
 "metadata": {
  "kernelspec": {
   "display_name": "Python 3",
   "language": "python",
   "name": "python3"
  },
  "language_info": {
   "codemirror_mode": {
    "name": "ipython",
    "version": 3
   },
   "file_extension": ".py",
   "mimetype": "text/x-python",
   "name": "python",
   "nbconvert_exporter": "python",
   "pygments_lexer": "ipython3",
   "version": "3.7.6"
  }
 },
 "nbformat": 4,
 "nbformat_minor": 4
}
