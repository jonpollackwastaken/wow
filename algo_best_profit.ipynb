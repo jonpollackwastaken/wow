{
 "cells": [
  {
   "cell_type": "code",
   "execution_count": 1,
   "metadata": {},
   "outputs": [],
   "source": [
    "import seaborn as sns\n",
    "sns.set_context('paper')"
   ]
  },
  {
   "cell_type": "markdown",
   "metadata": {},
   "source": [
    "### Load Database"
   ]
  },
  {
   "cell_type": "code",
   "execution_count": 2,
   "metadata": {},
   "outputs": [
    {
     "name": "stdout",
     "output_type": "stream",
     "text": [
      "\n",
      "Usage: \n",
      "  db = DB(server)          --> initializes database\n",
      "  db.get_df(item)          --> returns dataframe, prices divided by 100 so copper in decimal \n",
      "  db.get_name(item)        --> returns name of item  \n",
      "  db.get_last_record(item) --> returns most recent record\n",
      "  db.plot(item, y)         --> plots column over time\n",
      "\n"
     ]
    }
   ],
   "source": [
    "%run AH_DATABASE.ipynb"
   ]
  },
  {
   "cell_type": "code",
   "execution_count": 3,
   "metadata": {},
   "outputs": [],
   "source": [
    "db = DB('earthfury-alliance')"
   ]
  },
  {
   "cell_type": "markdown",
   "metadata": {},
   "source": [
    "### Flipping Analysis\n",
    "Assume you purchase at a given percentile price 'buy_pctile' of an item and flip it for a 15% profit.  By examining how minBidprice fluctuates over time, determine how many times you could perform this flip 'num_flips'.  Calulate numFlips for values of P from 1 to 100.  Determine the optimal 'buy_pctile' that maximizes num_flips and look up the corresponding minBidPrice."
   ]
  },
  {
   "cell_type": "code",
   "execution_count": 4,
   "metadata": {},
   "outputs": [],
   "source": [
    "def num_flips(item, buy_pctile, profit):\n",
    "    df = db.get_df(item)\n",
    "    count = 0\n",
    "    buysell = 'buy'    \n",
    "    \n",
    "    for pct, val in df[['minBuyoutPctile','minBuyout']].to_numpy(): #apparently way faster than df.iterrows()\n",
    "        # buy conditions\n",
    "        if buysell=='buy' and pct < buy_pctile:\n",
    "            price   = val\n",
    "            buysell = 'sell'        \n",
    "        # sell conditions\n",
    "        if buysell=='sell' and val > price*(1+profit):\n",
    "            count += 1\n",
    "            buysell = 'buy'    \n",
    "    return count\n",
    "\n",
    "# def flips_by_pctiles(item, profit):\n",
    "#     return [ (i/100, num_flips(item, i/100, profit)) for i in range(0,100)]\n",
    "\n",
    "# def best_flip_pctile_at_fixed_profit(item, profit):\n",
    "#     return max(flips_by_pctiles(item, profit), key=lambda x:x[1])\n",
    "\n",
    "# def flip_by_profit_at_best_pctile(item):\n",
    "#     # for all profits, 5 to 100%\n",
    "#     return [(i/100, best_flip_pctile_at_fixed_profit(item, i/100)) for i in range(5,100)]\n",
    "\n",
    "# def best_flip(item):\n",
    "#     return max(flip_by_profit_at_best_pctile(item, key=lambda x:x[1]))\n",
    "\n",
    "def get_minBuyout_at_pctile(item, pctile):\n",
    "    arr = db.get_df(item)['minBuyout'].to_list()\n",
    "    return np.percentile(arr, pctile*100)\n"
   ]
  },
  {
   "cell_type": "code",
   "execution_count": 5,
   "metadata": {},
   "outputs": [
    {
     "name": "stdout",
     "output_type": "stream",
     "text": [
      "Wall time: 841 ms\n"
     ]
    },
    {
     "data": {
      "text/plain": [
       "13"
      ]
     },
     "execution_count": 5,
     "metadata": {},
     "output_type": "execute_result"
    }
   ],
   "source": [
    "%%time\n",
    "num_flips(3818, 0.22, .15)"
   ]
  },
  {
   "cell_type": "code",
   "execution_count": 6,
   "metadata": {},
   "outputs": [
    {
     "name": "stdout",
     "output_type": "stream",
     "text": [
      "Wall time: 9.61 s\n"
     ]
    },
    {
     "data": {
      "text/html": [
       "<div>\n",
       "<style scoped>\n",
       "    .dataframe tbody tr th:only-of-type {\n",
       "        vertical-align: middle;\n",
       "    }\n",
       "\n",
       "    .dataframe tbody tr th {\n",
       "        vertical-align: top;\n",
       "    }\n",
       "\n",
       "    .dataframe thead th {\n",
       "        text-align: right;\n",
       "    }\n",
       "</style>\n",
       "<table border=\"1\" class=\"dataframe\">\n",
       "  <thead>\n",
       "    <tr style=\"text-align: right;\">\n",
       "      <th></th>\n",
       "      <th>buy_pctile</th>\n",
       "      <th>profit</th>\n",
       "      <th>num_flips</th>\n",
       "      <th>buy_price</th>\n",
       "      <th>net</th>\n",
       "    </tr>\n",
       "  </thead>\n",
       "  <tbody>\n",
       "    <tr>\n",
       "      <th>1541</th>\n",
       "      <td>0.15</td>\n",
       "      <td>0.41</td>\n",
       "      <td>9</td>\n",
       "      <td>58.33</td>\n",
       "      <td>188.9892</td>\n",
       "    </tr>\n",
       "  </tbody>\n",
       "</table>\n",
       "</div>"
      ],
      "text/plain": [
       "      buy_pctile  profit  num_flips  buy_price       net\n",
       "1541        0.15    0.41          9      58.33  188.9892"
      ]
     },
     "execution_count": 6,
     "metadata": {},
     "output_type": "execute_result"
    }
   ],
   "source": [
    "%%time\n",
    "item = 3818\n",
    "steps = np.linspace(0,.99,100)\n",
    "\n",
    "results = []\n",
    "for buy_pctile in steps:\n",
    "    for profit in steps:\n",
    "        results.append((buy_pctile, \n",
    "                        profit, \n",
    "                        num_flips(item, buy_pctile, profit)\n",
    "                       ))\n",
    "\n",
    "df = pd.DataFrame(results, columns = ['buy_pctile', 'profit','num_flips'])\n",
    "df['buy_price'] = df['buy_pctile'].apply(lambda x: get_minBuyout_at_pctile(item, x))\n",
    "df['net'] = df['buy_price'] * df['num_flips'] * (df['profit']-.05)\n",
    "df[df['net'] == df['net'].max()]"
   ]
  },
  {
   "cell_type": "code",
   "execution_count": null,
   "metadata": {},
   "outputs": [],
   "source": []
  },
  {
   "cell_type": "code",
   "execution_count": 7,
   "metadata": {
    "scrolled": false
   },
   "outputs": [
    {
     "data": {
      "text/plain": [
       "<matplotlib.axes._subplots.AxesSubplot at 0x2315264f1c8>"
      ]
     },
     "execution_count": 7,
     "metadata": {},
     "output_type": "execute_result"
    },
    {
     "data": {
      "image/png": "[encoded data removed]",
      "text/plain": [
       "<Figure size 432x288 with 1 Axes>"
      ]
     },
     "metadata": {
      "needs_background": "light"
     },
     "output_type": "display_data"
    }
   ],
   "source": [
    "nflips = 10\n",
    "bprice = 54\n",
    "sprice = 54 * 1.37\n",
    "\n",
    "\n",
    "df = db.get_df(item)\n",
    "df['bprice'] = bprice\n",
    "df['sprice'] = sprice\n",
    "df['median'] = df['minBuyout'].median()\n",
    "graph_title = f'{db.get_name(item)} - {nflips} flips - buy at {round(bprice,2)}'\n",
    "df.plot('scannedAt', ['minBuyout', 'bprice', 'sprice', 'median'], title=graph_title)\n",
    " "
   ]
  },
  {
   "cell_type": "code",
   "execution_count": null,
   "metadata": {},
   "outputs": [],
   "source": [
    "best_flip_pctile_at_fixed_profit(item, .15)"
   ]
  },
  {
   "cell_type": "code",
   "execution_count": null,
   "metadata": {},
   "outputs": [],
   "source": [
    "arr = flip_by_profit_at_best_pctile(item)"
   ]
  },
  {
   "cell_type": "code",
   "execution_count": null,
   "metadata": {},
   "outputs": [],
   "source": [
    "show_points([(i[0], i[1][0]) for i in arr])"
   ]
  },
  {
   "cell_type": "code",
   "execution_count": null,
   "metadata": {},
   "outputs": [],
   "source": []
  },
  {
   "cell_type": "code",
   "execution_count": null,
   "metadata": {},
   "outputs": [],
   "source": [
    "def find_optimal_flip(item, show_plot=False):\n",
    "    flip_profile =  num_flips_over_all_pctiles(item)\n",
    "    best_pctile, best_num_flips = max(flip_profile, key=lambda x:x[1])\n",
    "    best_buy_price = get_minBuyout_at_pctile(item, best_pctile)\n",
    "    \n",
    "    if show_plot:\n",
    "        df = db.get_df(item)\n",
    "        df['best_buy_price'] = best_buy_price\n",
    "        df['15pct_profit'] = best_buy_price * 1.15\n",
    "        graph_title = f'{db.get_name(item)} - {best_num_flips} flips - buy at {round(best_buy_price,2)}'\n",
    "        df.plot('scannedAt', ['minBuyout', 'best_buy_price', '15pct_profit'], title=graph_title)\n",
    "    \n",
    "    # return export ready data if not in plot mode\n",
    "    else:\n",
    "        return {\n",
    "            'name'        : db.get_name(item),\n",
    "            'item_id'     : item,\n",
    "            'buy_price'   : int(100 * best_buy_price),         # scaling copper back into integer for export\n",
    "            'min_price'   : int(100 * best_buy_price * 1.15),  # scaling copper back into integer for export\n",
    "            'normal_price': int(100 * best_buy_price * 1.25),  # scaling copper back into integer for export\n",
    "            'max_price'   : int(100 * best_buy_price * 1.5),   # scaling copper back into integer for export\n",
    "            'num_flips'   : best_num_flips,\n",
    "            'avg_quantity': int(db.get_df(item)['quantity'].mean())\n",
    "        }\n",
    "\n",
    "find_optimal_flip(3818, show_plot=True)        "
   ]
  },
  {
   "cell_type": "code",
   "execution_count": null,
   "metadata": {},
   "outputs": [],
   "source": [
    "find_optimal_flip(2770, show_plot=True)"
   ]
  },
  {
   "cell_type": "code",
   "execution_count": null,
   "metadata": {},
   "outputs": [],
   "source": [
    "find_optimal_flip(2770, show_plot=False)"
   ]
  },
  {
   "cell_type": "markdown",
   "metadata": {},
   "source": [
    "### Run All Materials"
   ]
  },
  {
   "cell_type": "code",
   "execution_count": null,
   "metadata": {},
   "outputs": [],
   "source": [
    "%run ITEMS.ipynb"
   ]
  },
  {
   "cell_type": "code",
   "execution_count": null,
   "metadata": {},
   "outputs": [],
   "source": [
    "def run_analysis(list_of_items):\n",
    "    results = []\n",
    "    print(f'running for {len(list_of_items)} items')\n",
    "    for i in range(0, len(list_of_items)):\n",
    "        item = list_of_items[i]\n",
    "        \n",
    "        # catch no data errors with try/except\n",
    "        try:\n",
    "            results.append(find_optimal_flip(item))\n",
    "        except: \n",
    "            print(f'! ERROR - {item}, {db.get_name(item)}')\n",
    "\n",
    "        # print progress\n",
    "        if i%10 ==0:\n",
    "            print(f' ...{i} done')   \n",
    "    print('COMPLETE')\n",
    "    return pd.DataFrame(results)\n",
    "\n",
    "df = run_analysis(ALL)    "
   ]
  },
  {
   "cell_type": "code",
   "execution_count": null,
   "metadata": {},
   "outputs": [],
   "source": [
    "df"
   ]
  },
  {
   "cell_type": "markdown",
   "metadata": {},
   "source": [
    "### Export"
   ]
  },
  {
   "cell_type": "code",
   "execution_count": null,
   "metadata": {
    "scrolled": true
   },
   "outputs": [],
   "source": [
    "%run EXPORT.ipynb"
   ]
  },
  {
   "cell_type": "code",
   "execution_count": null,
   "metadata": {},
   "outputs": [],
   "source": [
    "def set_restock_value(item):\n",
    "    if item in herbs + skinning:\n",
    "        return 40\n",
    "    if item in cloth + mining:\n",
    "        return 60\n",
    "    if item in eng:\n",
    "        return 10\n",
    "    if item in bags:\n",
    "        return 1\n",
    "    return 30\n",
    "\n",
    "df['restock'] = df['item_id'].apply(set_restock_value)"
   ]
  },
  {
   "cell_type": "code",
   "execution_count": null,
   "metadata": {},
   "outputs": [],
   "source": [
    "choice = df.query('num_flips >=7 and min_price>200').sort_values(by='num_flips')\n",
    "choice"
   ]
  },
  {
   "cell_type": "code",
   "execution_count": null,
   "metadata": {
    "scrolled": true
   },
   "outputs": [],
   "source": [
    "EXPORT(choice)"
   ]
  },
  {
   "cell_type": "code",
   "execution_count": null,
   "metadata": {},
   "outputs": [],
   "source": [
    "other = enchant+bags\n",
    "other = df.query('item_id in @other')\n",
    "other"
   ]
  },
  {
   "cell_type": "code",
   "execution_count": null,
   "metadata": {},
   "outputs": [],
   "source": [
    "EXPORT(other)"
   ]
  },
  {
   "cell_type": "code",
   "execution_count": null,
   "metadata": {},
   "outputs": [],
   "source": [
    "find_optimal_flip(3914, show_plot=True)"
   ]
  },
  {
   "cell_type": "code",
   "execution_count": null,
   "metadata": {},
   "outputs": [],
   "source": [
    "df.plot.scatter(x='min_price', y='avg_quantity', c='num_flips', colormap='viridis', logy=True, logx=True)"
   ]
  },
  {
   "cell_type": "code",
   "execution_count": null,
   "metadata": {},
   "outputs": [],
   "source": []
  }
 ],
 "metadata": {
  "kernelspec": {
   "display_name": "Python 3",
   "language": "python",
   "name": "python3"
  },
  "language_info": {
   "codemirror_mode": {
    "name": "ipython",
    "version": 3
   },
   "file_extension": ".py",
   "mimetype": "text/x-python",
   "name": "python",
   "nbconvert_exporter": "python",
   "pygments_lexer": "ipython3",
   "version": "3.7.6"
  }
 },
 "nbformat": 4,
 "nbformat_minor": 4
}
