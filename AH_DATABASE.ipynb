{
 "cells": [
  {
   "cell_type": "code",
   "execution_count": 2,
   "metadata": {},
   "outputs": [],
   "source": [
    "import functools\n",
    "import requests\n",
    "import pandas as pd\n",
    "import time\n",
    "import numpy as np\n",
    "import matplotlib.pyplot as plt\n",
    "import json"
   ]
  },
  {
   "cell_type": "code",
   "execution_count": 3,
   "metadata": {},
   "outputs": [],
   "source": [
    "class DB():\n",
    "    def __init__(self, server, timerange=7):\n",
    "        self.server = server\n",
    "        self.timerange = timerange\n",
    "\n",
    "    @functools.lru_cache(maxsize=512)\n",
    "    def get(self, item, timerange=None):\n",
    "        time.sleep(.25) # used to rate limit the api call, sleep is skipped when cached\n",
    "        url = f'https://api.nexushub.co/wow-classic/v1/items/{self.server}/{item}/prices?timerange={timerange or self.timerange}'\n",
    "        return requests.get(url).json()\n",
    "    \n",
    "    @functools.lru_cache(maxsize=512)\n",
    "    def get_df(self, item):\n",
    "        df = pd.DataFrame(self.get(item)['data'])\n",
    "        df['scannedAt'] = pd.to_datetime(df['scannedAt'])\n",
    "        df['marketValue'] /= 100\n",
    "        df['minBuyout']   /= 100\n",
    "        df['minBuyoutPctile'] = df['minBuyout'].rank(pct=True)\n",
    "        return df\n",
    "    \n",
    "    @functools.lru_cache(maxsize=512)\n",
    "    def get_df_hourly(self, item):\n",
    "        return self.get_df(item).resample('60min', on='scannedAt').mean().ffill().reset_index()\n",
    "\n",
    "    @functools.lru_cache(maxsize=512)\n",
    "    def get_vendorprice(self, item):\n",
    "        url = f'https://api.nexushub.co/wow-classic/v1/item/{item}'\n",
    "        return requests.get(url).json()['sellPrice']/100 or 0\n",
    "    \n",
    "    def get_name(self, item):\n",
    "        return self.get(item)['name']\n",
    "\n",
    "    def get_last_record(self, item):\n",
    "        return self.get_df(item).iloc[-1]\n",
    "    \n",
    "    def plot(self, item, y):\n",
    "        self.get_df(item).plot(x='scannedAt', y=y, label=f'{self.get_name(item)} | {y}')"
   ]
  },
  {
   "cell_type": "code",
   "execution_count": 4,
   "metadata": {
    "scrolled": true
   },
   "outputs": [
    {
     "name": "stdout",
     "output_type": "stream",
     "text": [
      "\n",
      "Usage: \n",
      "  db = DB(server)          --> initializes database\n",
      "  db.get_df(item)          --> returns dataframe, prices divided by 100 so copper in decimal \n",
      "  db.get_name(item)        --> returns name of item  \n",
      "  db.get_last_record(item) --> returns most recent record\n",
      "  db.plot(item, y)         --> plots column over time\n",
      "\n"
     ]
    }
   ],
   "source": [
    "print('''\n",
    "Usage: \n",
    "  db = DB(server)          --> initializes database\n",
    "  db.get_df(item)          --> returns dataframe, prices divided by 100 so copper in decimal \n",
    "  db.get_name(item)        --> returns name of item  \n",
    "  db.get_last_record(item) --> returns most recent record\n",
    "  db.plot(item, y)         --> plots column over time\n",
    "''')"
   ]
  },
  {
   "cell_type": "code",
   "execution_count": null,
   "metadata": {},
   "outputs": [],
   "source": []
  }
 ],
 "metadata": {
  "kernelspec": {
   "display_name": "Python 3",
   "language": "python",
   "name": "python3"
  },
  "language_info": {
   "codemirror_mode": {
    "name": "ipython",
    "version": 3
   },
   "file_extension": ".py",
   "mimetype": "text/x-python",
   "name": "python",
   "nbconvert_exporter": "python",
   "pygments_lexer": "ipython3",
   "version": "3.7.6"
  }
 },
 "nbformat": 4,
 "nbformat_minor": 4
}
